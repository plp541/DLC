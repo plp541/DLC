{
 "cells": [
  {
   "cell_type": "markdown",
   "id": "95ac9020-0167-437d-b7fe-c155eb94fe24",
   "metadata": {},
   "source": [
    "Dataset de prueba"
   ]
  },
  {
   "cell_type": "code",
   "execution_count": 7,
   "id": "14d9af73-26b3-49c1-a5ed-fc9a343ea04c",
   "metadata": {},
   "outputs": [
    {
     "name": "stdout",
     "output_type": "stream",
     "text": [
      "Primeras filas del dataset:\n",
      "   Edad  Ingreso Mensual ($) Estado Civil Interacción Redes Sociales  \\\n",
      "0    56                 4195      Soltero                       Alta   \n",
      "1    46                 6758      Soltero                       Baja   \n",
      "2    32                 7118       Casado                       Alta   \n",
      "3    60                 8236       Casado                       Baja   \n",
      "4    25                 1891      Soltero                       Alta   \n",
      "\n",
      "   Tiempo en el Sitio Web (minutos) Dispositivo Usado Compra Realizada  \n",
      "0                                31           Desktop               Sí  \n",
      "1                                46             Móvil               No  \n",
      "2                                 6             Móvil               No  \n",
      "3                                30           Desktop               Sí  \n",
      "4                                21             Móvil               No  \n",
      "\n",
      "Distribución de la variable objetivo (Compra Realizada):\n",
      "Compra Realizada\n",
      "No    71\n",
      "Sí    29\n",
      "Name: count, dtype: int64\n",
      "\n",
      "Estadísticas de ingreso mensual (No):\n",
      "count      71.000000\n",
      "mean     6245.619718\n",
      "std      2505.465964\n",
      "min      1702.000000\n",
      "25%      4415.000000\n",
      "50%      6758.000000\n",
      "75%      8424.000000\n",
      "max      9892.000000\n",
      "Name: Ingreso Mensual ($), dtype: float64\n",
      "\n",
      "Estadísticas de ingreso mensual (Sí):\n",
      "count      29.000000\n",
      "mean     5638.482759\n",
      "std      2122.799611\n",
      "min      1697.000000\n",
      "25%      4193.000000\n",
      "50%      5718.000000\n",
      "75%      7030.000000\n",
      "max      9664.000000\n",
      "Name: Ingreso Mensual ($), dtype: float64\n",
      "\n",
      "Estadísticas de tiempo en el sitio web (No):\n",
      "count    71.000000\n",
      "mean     35.422535\n",
      "std      17.400051\n",
      "min       5.000000\n",
      "25%      21.000000\n",
      "50%      37.000000\n",
      "75%      51.500000\n",
      "max      59.000000\n",
      "Name: Tiempo en el Sitio Web (minutos), dtype: float64\n",
      "\n",
      "Estadísticas de tiempo en el sitio web (Sí):\n",
      "count    29.000000\n",
      "mean     32.758621\n",
      "std      13.762410\n",
      "min       8.000000\n",
      "25%      23.000000\n",
      "50%      33.000000\n",
      "75%      44.000000\n",
      "max      57.000000\n",
      "Name: Tiempo en el Sitio Web (minutos), dtype: float64\n"
     ]
    },
    {
     "data": {
      "image/png": "[encoded data removed]",
      "text/plain": [
       "<Figure size 600x400 with 1 Axes>"
      ]
     },
     "metadata": {},
     "output_type": "display_data"
    }
   ],
   "source": [
    "import pandas as pd\n",
    "import numpy as np\n",
    "import matplotlib.pyplot as plt\n",
    "\n",
    "# Generar dataset sintético\n",
    "np.random.seed(42)\n",
    "\n",
    "# Columnas\n",
    "edad = np.random.randint(18, 65, size=100)\n",
    "ingreso_mensual = np.random.randint(1500, 10000, size=100)\n",
    "estado_civil = np.random.choice(['Soltero', 'Casado'], size=100)\n",
    "interaccion_redes = np.random.choice(['Alta', 'Baja'], size=100)\n",
    "tiempo_sitio_web = np.random.randint(5, 60, size=100)\n",
    "dispositivo_usado = np.random.choice(['Móvil', 'Desktop'], size=100)\n",
    "compra_realizada = np.random.choice(['Sí', 'No'], size=100, p=[0.3, 0.7])\n",
    "\n",
    "# Crear el DataFrame\n",
    "dataset = pd.DataFrame({\n",
    "    'Edad': edad,\n",
    "    'Ingreso Mensual ($)': ingreso_mensual,\n",
    "    'Estado Civil': estado_civil,\n",
    "    'Interacción Redes Sociales': interaccion_redes,\n",
    "    'Tiempo en el Sitio Web (minutos)': tiempo_sitio_web,\n",
    "    'Dispositivo Usado': dispositivo_usado,\n",
    "    'Compra Realizada': compra_realizada\n",
    "})\n",
    "\n",
    "# Análisis exploratorio\n",
    "print(\"Primeras filas del dataset:\")\n",
    "print(dataset.head())\n",
    "\n",
    "print(\"\\nDistribución de la variable objetivo (Compra Realizada):\")\n",
    "print(dataset['Compra Realizada'].value_counts())\n",
    "\n",
    "# Visualizaciones sin pintar gráficos\n",
    "compra_no = dataset[dataset['Compra Realizada'] == 'No']['Ingreso Mensual ($)']\n",
    "compra_si = dataset[dataset['Compra Realizada'] == 'Sí']['Ingreso Mensual ($)']\n",
    "\n",
    "print(\"\\nEstadísticas de ingreso mensual (No):\")\n",
    "print(compra_no.describe())\n",
    "\n",
    "print(\"\\nEstadísticas de ingreso mensual (Sí):\")\n",
    "print(compra_si.describe())\n",
    "\n",
    "tiempo_no = dataset[dataset['Compra Realizada'] == 'No']['Tiempo en el Sitio Web (minutos)']\n",
    "tiempo_si = dataset[dataset['Compra Realizada'] == 'Sí']['Tiempo en el Sitio Web (minutos)']\n",
    "\n",
    "print(\"\\nEstadísticas de tiempo en el sitio web (No):\")\n",
    "print(tiempo_no.describe())\n",
    "\n",
    "print(\"\\nEstadísticas de tiempo en el sitio web (Sí):\")\n",
    "print(tiempo_si.describe())\n",
    "\n",
    "plt.figure(figsize=(6, 4))\n",
    "plt.bar(['No', 'Sí'], dataset['Compra Realizada'].value_counts(), color=['skyblue', 'lightgreen'])\n",
    "plt.title(\"Distribución de la variable objetivo: Compra Realizada\")\n",
    "plt.xlabel(\"Compra Realizada\")\n",
    "plt.ylabel(\"Cantidad\")\n",
    "plt.show()"
   ]
  },
  {
   "cell_type": "code",
   "execution_count": 9,
   "id": "2b1bd169-ed0b-4a57-9f23-3469aa381138",
   "metadata": {},
   "outputs": [
    {
     "data": {
      "text/plain": [
       "'dataset_compras.csv'"
      ]
     },
     "execution_count": 9,
     "metadata": {},
     "output_type": "execute_result"
    }
   ],
   "source": [
    "# Guardar el dataset generado en un archivo CSV\n",
    "file_path = \"dataset_compras.csv\"\n",
    "dataset.to_csv(file_path, index=False)\n",
    "file_path"
   ]
  }
 ],
 "metadata": {
  "kernelspec": {
   "display_name": "Python 3 (ipykernel)",
   "language": "python",
   "name": "python3"
  },
  "language_info": {
   "codemirror_mode": {
    "name": "ipython",
    "version": 3
   },
   "file_extension": ".py",
   "mimetype": "text/x-python",
   "name": "python",
   "nbconvert_exporter": "python",
   "pygments_lexer": "ipython3",
   "version": "3.13.0"
  }
 },
 "nbformat": 4,
 "nbformat_minor": 5
}
